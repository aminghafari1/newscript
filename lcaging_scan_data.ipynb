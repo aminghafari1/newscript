{
  "nbformat": 4,
  "nbformat_minor": 0,
  "metadata": {
    "colab": {
      "provenance": [],
      "authorship_tag": "ABX9TyOSiDlPil3ak+HUpcEBcXl+",
      "include_colab_link": true
    },
    "kernelspec": {
      "name": "python3",
      "display_name": "Python 3"
    },
    "language_info": {
      "name": "python"
    }
  },
  "cells": [
    {
      "cell_type": "markdown",
      "metadata": {
        "id": "view-in-github",
        "colab_type": "text"
      },
      "source": [
        "<a href=\"https://colab.research.google.com/github/aminghafari1/newscript/blob/main/lcaging_scan_data.ipynb\" target=\"_parent\"><img src=\"https://colab.research.google.com/assets/colab-badge.svg\" alt=\"Open In Colab\"/></a>"
      ]
    },
    {
      "cell_type": "code",
      "execution_count": 2,
      "metadata": {
        "colab": {
          "base_uri": "https://localhost:8080/"
        },
        "id": "7Ev7fPhGQHET",
        "outputId": "93dd5733-ef24-46c5-a4cf-31d0937adf99"
      },
      "outputs": [
        {
          "output_type": "stream",
          "name": "stdout",
          "text": [
            "Mounted at /content/gdrive\n"
          ]
        }
      ],
      "source": [
        "from google.colab import drive\n",
        "drive.mount('/content/gdrive')\n",
        "import numpy as np\n"
      ]
    },
    {
      "cell_type": "code",
      "source": [
        "import scipy.io as sio\n",
        "runs=[\"run1\",\"run2\",\"run3\",\"run4\",\"run5\"]\n",
        "print(runs[0])"
      ],
      "metadata": {
        "colab": {
          "base_uri": "https://localhost:8080/"
        },
        "id": "VmFo9n5BIDqo",
        "outputId": "253b89d9-303e-4ca3-e5eb-99899cd4429e"
      },
      "execution_count": 7,
      "outputs": [
        {
          "output_type": "stream",
          "name": "stdout",
          "text": [
            "run1\n"
          ]
        }
      ]
    },
    {
      "cell_type": "code",
      "source": [
        "\n",
        "\n",
        "run1=sio.loadmat('/content/gdrive/Shareddrives/LC-Aging/'\\\n",
        "'Older Adult - MRI Study/Data Collection/BAP/BAP data/'\\\n",
        "'sub-BAP103/ses-2/InsideScanner/'\\\n",
        "'subjectBAP103_Voddball_session2_'\\\n",
        "'%s'\\\n",
        "'_7_6_13_15.mat' %(runs[0]))\n",
        "\n"
      ],
      "metadata": {
        "id": "i0jWOwKsR_N4"
      },
      "execution_count": 8,
      "outputs": []
    },
    {
      "cell_type": "code",
      "source": [
        "run1.keys"
      ],
      "metadata": {
        "colab": {
          "base_uri": "https://localhost:8080/"
        },
        "id": "-iUO_3XRYApS",
        "outputId": "18459e86-5379-455b-fce7-dc2ed0a3e8d6"
      },
      "execution_count": 9,
      "outputs": [
        {
          "output_type": "execute_result",
          "data": {
            "text/plain": [
              "<function dict.keys>"
            ]
          },
          "metadata": {},
          "execution_count": 9
        }
      ]
    },
    {
      "cell_type": "code",
      "source": [],
      "metadata": {
        "colab": {
          "base_uri": "https://localhost:8080/"
        },
        "id": "YvU2YCh9bZZl",
        "outputId": "cfd6b8af-17f7-40f9-86e7-3370b75a4221"
      },
      "execution_count": 17,
      "outputs": [
        {
          "output_type": "stream",
          "name": "stderr",
          "text": [
            "<ipython-input-17-83616f24cd84>:1: VisibleDeprecationWarning: Creating an ndarray from ragged nested sequences (which is a list-or-tuple of lists-or-tuples-or ndarrays with different lengths or shapes) is deprecated. If you meant to do this, you must specify 'dtype=object' when creating the ndarray.\n",
            "  vectors = np.array(list(run1.values()))\n"
          ]
        }
      ]
    },
    {
      "cell_type": "code",
      "source": [
        "isoddball=run1['isoddball']\n",
        "iscorr=run1['iscorr']\n",
        "trial_offset=run1['trial_offset']\n",
        "nan_indices=np.where(np.isnan(iscorr)==True)\n",
        "nan_indices=nan_indices[1]\n",
        "iscorr_corrected=iscorr[~np.isnan(iscorr)]\n",
        "trial_offset_corrected=trial_offset[~np.isnan(iscorr)]\n",
        "isoddball_corrected=isoddball[~np.isnan(iscorr)]\n",
        "print('The shape for the ofset_trial_corrected is:',np.shape(trial_offset_corrected))"
      ],
      "metadata": {
        "id": "dtix5CSRbqGM",
        "colab": {
          "base_uri": "https://localhost:8080/"
        },
        "outputId": "cb67061d-3f5a-4610-a285-c0f742cff3f0"
      },
      "execution_count": 18,
      "outputs": [
        {
          "output_type": "stream",
          "name": "stdout",
          "text": [
            "The shape for the ofset_trial_corrected is: (29,)\n"
          ]
        }
      ]
    },
    {
      "cell_type": "code",
      "source": [
        "print(iscorr_corrected)"
      ],
      "metadata": {
        "colab": {
          "base_uri": "https://localhost:8080/"
        },
        "id": "S4aUK17RmqdY",
        "outputId": "7f6583de-7d56-472d-b9ce-2509b484a87a"
      },
      "execution_count": 19,
      "outputs": [
        {
          "output_type": "stream",
          "name": "stdout",
          "text": [
            "[1. 1. 1. 1. 1. 1. 0. 1. 1. 1. 1. 1. 1. 1. 1. 1. 1. 1. 1. 1. 0. 0. 1. 1.\n",
            " 1. 1. 1. 1. 1.]\n"
          ]
        }
      ]
    },
    {
      "cell_type": "code",
      "source": [
        "offsets_no_repeat_sorted=np.sort(np.unique(trial_offset))"
      ],
      "metadata": {
        "id": "ZVDh36cuhuTt"
      },
      "execution_count": 20,
      "outputs": []
    },
    {
      "cell_type": "code",
      "source": [
        "print(np.size(iscorr_corrected))"
      ],
      "metadata": {
        "id": "001t2Hi6bvgW",
        "colab": {
          "base_uri": "https://localhost:8080/"
        },
        "outputId": "b9b068df-4517-4907-c0f0-ed7e246364b3"
      },
      "execution_count": 21,
      "outputs": [
        {
          "output_type": "stream",
          "name": "stdout",
          "text": [
            "29\n"
          ]
        }
      ]
    },
    {
      "cell_type": "code",
      "source": [
        "accuracy=np.zeros((np.size(offsets_no_repeat_sorted)))\n",
        "print(np.shape(accuracy))\n",
        "for i in range(len(offsets_no_repeat_sorted)):\n",
        "  corrects=0\n",
        "  for j in range(len(iscorr_corrected)):\n",
        "    if trial_offset_corrected[j]==offsets_no_repeat_sorted[i]:\n",
        "      if iscorr_corrected[j]==1:\n",
        "        corrects=corrects+1\n",
        "  accuracy[i]=corrects/np.count_nonzero(trial_offset_corrected==offsets_no_repeat_sorted[i])"
      ],
      "metadata": {
        "colab": {
          "base_uri": "https://localhost:8080/"
        },
        "id": "DCEYCtf_keF8",
        "outputId": "0f98764b-eb16-46b7-ce2f-fb227bbfa3e8"
      },
      "execution_count": 22,
      "outputs": [
        {
          "output_type": "stream",
          "name": "stdout",
          "text": [
            "(5,)\n"
          ]
        }
      ]
    },
    {
      "cell_type": "code",
      "source": [
        "accuracy"
      ],
      "metadata": {
        "colab": {
          "base_uri": "https://localhost:8080/"
        },
        "id": "os8yDbFWpbcz",
        "outputId": "38384c0b-e848-441e-d70f-6b6aa1118ae8"
      },
      "execution_count": 23,
      "outputs": [
        {
          "output_type": "execute_result",
          "data": {
            "text/plain": [
              "array([1.        , 0.66666667, 1.        , 0.83333333, 1.        ])"
            ]
          },
          "metadata": {},
          "execution_count": 23
        }
      ]
    },
    {
      "cell_type": "code",
      "source": [
        "import matplotlib.pyplot as plt\n",
        "plt.plot(offsets_no_repeat_sorted,accuracy)\n",
        "plt.title('subjects accuracy')\n",
        "plt.xlabel('Oddball Level')\n",
        "plt.ylabel('Accurcay')\n",
        "plt.grid(True)"
      ],
      "metadata": {
        "colab": {
          "base_uri": "https://localhost:8080/",
          "height": 295
        },
        "id": "Nf2NZ714pcI5",
        "outputId": "2c0c667e-7609-4018-dd3a-d613d65b37b6"
      },
      "execution_count": 24,
      "outputs": [
        {
          "output_type": "display_data",
          "data": {
            "text/plain": [
              "<Figure size 432x288 with 1 Axes>"
            ],
            "image/png": "[encoded data removed]"
          },
          "metadata": {
            "needs_background": "light"
          }
        }
      ]
    }
  ]
}